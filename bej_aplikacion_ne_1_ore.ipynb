{
  "nbformat": 4,
  "nbformat_minor": 0,
  "metadata": {
    "colab": {
      "name": "bej aplikacion ne 1 ore.ipynb",
      "provenance": [],
      "collapsed_sections": [],
      "authorship_tag": "ABX9TyPJg1x8tQhriufx4WOeKqGe",
      "include_colab_link": true
    },
    "kernelspec": {
      "name": "python3",
      "display_name": "Python 3"
    },
    "language_info": {
      "name": "python"
    }
  },
  "cells": [
    {
      "cell_type": "markdown",
      "metadata": {
        "id": "view-in-github",
        "colab_type": "text"
      },
      "source": [
        "<a href=\"https://colab.research.google.com/github/acc89991/bej-aplikacion-ne-1-ore/blob/main/bej_aplikacion_ne_1_ore.ipynb\" target=\"_parent\"><img src=\"https://colab.research.google.com/assets/colab-badge.svg\" alt=\"Open In Colab\"/></a>"
      ]
    },
    {
      "cell_type": "code",
      "execution_count": null,
      "metadata": {
        "id": "_MRKwTAwAM4H"
      },
      "outputs": [],
      "source": [
        ""
      ]
    },
    {
      "cell_type": "markdown",
      "source": [
        "si te bejm aplikacion te thjesht ne vetem 1 ore"
      ],
      "metadata": {
        "id": "njV4bEVlAV4m"
      }
    },
    {
      "cell_type": "markdown",
      "source": [
        "menyra te thjeshta per aplikacion \n",
        "testo aplikacione"
      ],
      "metadata": {
        "id": "2hOgOsdFAc2t"
      }
    },
    {
      "cell_type": "markdown",
      "source": [
        "menyra te thjeshta per aplikacione "
      ],
      "metadata": {
        "id": "La8q41lBAhoV"
      }
    },
    {
      "cell_type": "code",
      "source": [
        "1"
      ],
      "metadata": {
        "colab": {
          "base_uri": "https://localhost:8080/"
        },
        "id": "yrRMYeY2AvFV",
        "outputId": "1a576190-ec22-4e99-fa42-1643211e9221"
      },
      "execution_count": 1,
      "outputs": [
        {
          "output_type": "execute_result",
          "data": {
            "text/plain": [
              "1"
            ]
          },
          "metadata": {},
          "execution_count": 1
        }
      ]
    }
  ]
}